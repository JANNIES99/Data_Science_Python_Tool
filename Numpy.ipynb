{
  "nbformat": 4,
  "nbformat_minor": 0,
  "metadata": {
    "colab": {
      "provenance": []
    },
    "kernelspec": {
      "name": "python3",
      "display_name": "Python 3"
    },
    "language_info": {
      "name": "python"
    }
  },
  "cells": [
    {
      "cell_type": "markdown",
      "source": [
        "# **Installing Numpy Modules**"
      ],
      "metadata": {
        "id": "KHqzOuXdTjk9"
      }
    },
    {
      "cell_type": "code",
      "execution_count": 1,
      "metadata": {
        "colab": {
          "base_uri": "https://localhost:8080/"
        },
        "id": "TNhYHaFGTKlK",
        "outputId": "739bec84-a238-41d4-e33f-76ee311327a0"
      },
      "outputs": [
        {
          "output_type": "stream",
          "name": "stdout",
          "text": [
            "Requirement already satisfied: numpy in /usr/local/lib/python3.11/dist-packages (2.0.2)\n"
          ]
        }
      ],
      "source": [
        "!pip install numpy"
      ]
    },
    {
      "cell_type": "markdown",
      "source": [
        "## **Numpy Array Initalization and Properties**"
      ],
      "metadata": {
        "id": "zsSHA4RbJQRz"
      }
    },
    {
      "cell_type": "code",
      "source": [
        "import numpy as np"
      ],
      "metadata": {
        "id": "4uC0sOvGH2U4"
      },
      "execution_count": 3,
      "outputs": []
    },
    {
      "cell_type": "markdown",
      "source": [
        "**Initalizing with a list**"
      ],
      "metadata": {
        "id": "xQwpxH-Hv6zH"
      }
    },
    {
      "cell_type": "code",
      "source": [
        "arr1=np.array([1,2,3,4])\n",
        "arr1"
      ],
      "metadata": {
        "id": "V5CgoEw2TiNJ",
        "colab": {
          "base_uri": "https://localhost:8080/"
        },
        "outputId": "f44bbbd5-4188-4755-af40-7d822e531773"
      },
      "execution_count": null,
      "outputs": [
        {
          "output_type": "execute_result",
          "data": {
            "text/plain": [
              "array([1, 2, 3, 4])"
            ]
          },
          "metadata": {},
          "execution_count": 5
        }
      ]
    },
    {
      "cell_type": "code",
      "source": [
        "print(\"Size=\",arr1.size,\"\\nShape=\",arr1.shape,\"\\nType=\",arr1.dtype)"
      ],
      "metadata": {
        "colab": {
          "base_uri": "https://localhost:8080/"
        },
        "id": "M35dUu38IISa",
        "outputId": "dc795f22-b9fb-4e05-801a-fd47d2f044d7"
      },
      "execution_count": null,
      "outputs": [
        {
          "output_type": "stream",
          "name": "stdout",
          "text": [
            "Size= 4 \n",
            "Shape= (4,) \n",
            "Type= int64\n"
          ]
        }
      ]
    },
    {
      "cell_type": "markdown",
      "source": [
        "**Initalizing with a tuple**"
      ],
      "metadata": {
        "id": "fSN7EqBrwE2H"
      }
    },
    {
      "cell_type": "code",
      "source": [
        "arr2=np.array(((6.0,7.5,8,9),(2,3,4,5)))\n",
        "arr2"
      ],
      "metadata": {
        "colab": {
          "base_uri": "https://localhost:8080/"
        },
        "id": "E1i-3cPRIvlN",
        "outputId": "942c2d23-800e-476b-fc91-4724c48973b0"
      },
      "execution_count": null,
      "outputs": [
        {
          "output_type": "execute_result",
          "data": {
            "text/plain": [
              "array([[6. , 7.5, 8. , 9. ],\n",
              "       [2. , 3. , 4. , 5. ]])"
            ]
          },
          "metadata": {},
          "execution_count": 8
        }
      ]
    },
    {
      "cell_type": "code",
      "source": [
        "print(\"Size=\",arr2.size,\"\\nShape=\",arr2.shape,\"\\nType=\",arr2.dtype)"
      ],
      "metadata": {
        "colab": {
          "base_uri": "https://localhost:8080/"
        },
        "id": "_4U-PaGgJHok",
        "outputId": "8fbfa658-1c31-4a6d-d96d-4d3ceff07ae9"
      },
      "execution_count": null,
      "outputs": [
        {
          "output_type": "stream",
          "name": "stdout",
          "text": [
            "Size= 8 \n",
            "Shape= (2, 4) \n",
            "Type= float64\n"
          ]
        }
      ]
    },
    {
      "cell_type": "markdown",
      "source": [
        "**Special Initalization Function**"
      ],
      "metadata": {
        "id": "fqT-nNmKzgeh"
      }
    },
    {
      "cell_type": "code",
      "source": [
        "arrZero=np.zeros((2,4))\n",
        "arrZero"
      ],
      "metadata": {
        "colab": {
          "base_uri": "https://localhost:8080/"
        },
        "id": "2n4S-_1C0G5Y",
        "outputId": "8c761083-e53b-4ad4-be56-04779bdd706b"
      },
      "execution_count": null,
      "outputs": [
        {
          "output_type": "execute_result",
          "data": {
            "text/plain": [
              "array([[0., 0., 0., 0.],\n",
              "       [0., 0., 0., 0.]])"
            ]
          },
          "metadata": {},
          "execution_count": 10
        }
      ]
    },
    {
      "cell_type": "code",
      "source": [
        "arrOne=np.ones((4,5))\n",
        "arrOne"
      ],
      "metadata": {
        "colab": {
          "base_uri": "https://localhost:8080/"
        },
        "id": "y2Qyly4v0pTp",
        "outputId": "e24a5a1b-dd0e-4ca3-b194-24c32aef8d88"
      },
      "execution_count": null,
      "outputs": [
        {
          "output_type": "execute_result",
          "data": {
            "text/plain": [
              "array([[1., 1., 1., 1., 1.],\n",
              "       [1., 1., 1., 1., 1.],\n",
              "       [1., 1., 1., 1., 1.],\n",
              "       [1., 1., 1., 1., 1.]])"
            ]
          },
          "metadata": {},
          "execution_count": 11
        }
      ]
    },
    {
      "cell_type": "code",
      "source": [
        "arrEmpty=np.empty((5,5))\n",
        "arrEmpty"
      ],
      "metadata": {
        "colab": {
          "base_uri": "https://localhost:8080/"
        },
        "id": "c42CBtKS0wkf",
        "outputId": "b0210104-c1d0-475a-e424-04eba112eb27"
      },
      "execution_count": null,
      "outputs": [
        {
          "output_type": "execute_result",
          "data": {
            "text/plain": [
              "array([[2.28318827e-315, 0.00000000e+000, 6.51906911e-310,\n",
              "        6.51906911e-310, 4.90111540e-317],\n",
              "       [5.33004343e-317, 6.51906911e-310, 6.51906911e-310,\n",
              "        4.90111540e-317, 5.33004343e-317],\n",
              "       [6.51906911e-310, 6.51906911e-310, 6.51904245e-310,\n",
              "        6.51904245e-310, 4.89162934e-317],\n",
              "       [5.31863644e-317, 4.89162934e-317, 6.51904245e-310,\n",
              "        6.51906911e-310, 5.31707124e-317],\n",
              "       [6.51906911e-310, 6.51904245e-310, 6.51904244e-310,\n",
              "        5.31721353e-317, 1.36757371e-320]])"
            ]
          },
          "metadata": {},
          "execution_count": 13
        }
      ]
    },
    {
      "cell_type": "code",
      "source": [
        "arrEye=np.eye(3)#or np.identity(3)\n",
        "arrEye"
      ],
      "metadata": {
        "colab": {
          "base_uri": "https://localhost:8080/"
        },
        "id": "RePHIN1KpYN8",
        "outputId": "b712adce-1c2b-429b-f67d-199aa4763d3f"
      },
      "execution_count": 5,
      "outputs": [
        {
          "output_type": "execute_result",
          "data": {
            "text/plain": [
              "array([[1., 0., 0.],\n",
              "       [0., 1., 0.],\n",
              "       [0., 0., 1.]])"
            ]
          },
          "metadata": {},
          "execution_count": 5
        }
      ]
    },
    {
      "cell_type": "code",
      "source": [
        "arrRange=np.arange(2,17,2)\n",
        "arrRange"
      ],
      "metadata": {
        "colab": {
          "base_uri": "https://localhost:8080/"
        },
        "id": "yNPgaj7ArKM1",
        "outputId": "c2732a74-dd90-4c33-ecdb-69de7c584047"
      },
      "execution_count": 10,
      "outputs": [
        {
          "output_type": "execute_result",
          "data": {
            "text/plain": [
              "array([ 2,  4,  6,  8, 10, 12, 14, 16])"
            ]
          },
          "metadata": {},
          "execution_count": 10
        }
      ]
    },
    {
      "cell_type": "markdown",
      "source": [
        "# **Operations On Numpy Array**"
      ],
      "metadata": {
        "id": "qRP3eCasqzDM"
      }
    },
    {
      "cell_type": "code",
      "source": [
        "arr1=np.array([[1,2,3,4],[6,7,8,9]])\n",
        "arr2=np.array(((6,7,8,9),(2,3,4,5)))"
      ],
      "metadata": {
        "id": "zN-LcQXGrGQV"
      },
      "execution_count": 12,
      "outputs": []
    }
  ]
}