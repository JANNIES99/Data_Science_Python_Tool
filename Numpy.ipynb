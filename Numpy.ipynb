{
  "nbformat": 4,
  "nbformat_minor": 0,
  "metadata": {
    "colab": {
      "provenance": []
    },
    "kernelspec": {
      "name": "python3",
      "display_name": "Python 3"
    },
    "language_info": {
      "name": "python"
    }
  },
  "cells": [
    {
      "cell_type": "markdown",
      "source": [
        "# **Installing Numpy Modules**"
      ],
      "metadata": {
        "id": "KHqzOuXdTjk9"
      }
    },
    {
      "cell_type": "code",
      "execution_count": null,
      "metadata": {
        "colab": {
          "base_uri": "https://localhost:8080/"
        },
        "id": "TNhYHaFGTKlK",
        "outputId": "e51a4fb3-82f9-4fd8-f939-e9a4cf5d4a80"
      },
      "outputs": [
        {
          "output_type": "stream",
          "name": "stdout",
          "text": [
            "Requirement already satisfied: numpy in /usr/local/lib/python3.11/dist-packages (2.0.2)\n"
          ]
        }
      ],
      "source": [
        "!pip install numpy"
      ]
    },
    {
      "cell_type": "markdown",
      "source": [
        "## **Numpy Array Initalization and Properties**"
      ],
      "metadata": {
        "id": "zsSHA4RbJQRz"
      }
    },
    {
      "cell_type": "code",
      "source": [
        "import numpy as np"
      ],
      "metadata": {
        "id": "4uC0sOvGH2U4"
      },
      "execution_count": null,
      "outputs": []
    },
    {
      "cell_type": "markdown",
      "source": [
        "**Initalizing with a list**"
      ],
      "metadata": {
        "id": "xQwpxH-Hv6zH"
      }
    },
    {
      "cell_type": "code",
      "source": [
        "arr1=np.array([1,2,3,4])\n",
        "arr1"
      ],
      "metadata": {
        "id": "V5CgoEw2TiNJ",
        "colab": {
          "base_uri": "https://localhost:8080/"
        },
        "outputId": "f44bbbd5-4188-4755-af40-7d822e531773"
      },
      "execution_count": null,
      "outputs": [
        {
          "output_type": "execute_result",
          "data": {
            "text/plain": [
              "array([1, 2, 3, 4])"
            ]
          },
          "metadata": {},
          "execution_count": 5
        }
      ]
    },
    {
      "cell_type": "code",
      "source": [
        "print(\"Size=\",arr1.size,\"\\nShape=\",arr1.shape,\"\\nType=\",arr1.dtype)"
      ],
      "metadata": {
        "colab": {
          "base_uri": "https://localhost:8080/"
        },
        "id": "M35dUu38IISa",
        "outputId": "dc795f22-b9fb-4e05-801a-fd47d2f044d7"
      },
      "execution_count": null,
      "outputs": [
        {
          "output_type": "stream",
          "name": "stdout",
          "text": [
            "Size= 4 \n",
            "Shape= (4,) \n",
            "Type= int64\n"
          ]
        }
      ]
    },
    {
      "cell_type": "markdown",
      "source": [
        "**Initalizing with a tuple**"
      ],
      "metadata": {
        "id": "fSN7EqBrwE2H"
      }
    },
    {
      "cell_type": "code",
      "source": [
        "arr2=np.array(((6.0,7.5,8,9),(2,3,4,5)))\n",
        "arr2"
      ],
      "metadata": {
        "colab": {
          "base_uri": "https://localhost:8080/"
        },
        "id": "E1i-3cPRIvlN",
        "outputId": "558d8cb4-76c6-4b88-90fd-67dcb5d82971"
      },
      "execution_count": null,
      "outputs": [
        {
          "output_type": "execute_result",
          "data": {
            "text/plain": [
              "array([[6. , 7.5, 8. , 9. ],\n",
              "       [2. , 3. , 4. , 5. ]])"
            ]
          },
          "metadata": {},
          "execution_count": 3
        }
      ]
    },
    {
      "cell_type": "code",
      "source": [
        "arr2.reshape(4,2)"
      ],
      "metadata": {
        "colab": {
          "base_uri": "https://localhost:8080/"
        },
        "id": "K_7ekHcNBsg-",
        "outputId": "6a895999-175e-4c14-9b81-58aa12988eef"
      },
      "execution_count": null,
      "outputs": [
        {
          "output_type": "execute_result",
          "data": {
            "text/plain": [
              "array([[6. , 7.5],\n",
              "       [8. , 9. ],\n",
              "       [2. , 3. ],\n",
              "       [4. , 5. ]])"
            ]
          },
          "metadata": {},
          "execution_count": 4
        }
      ]
    },
    {
      "cell_type": "code",
      "source": [
        "print(\"Size=\",arr2.size,\"\\nShape=\",arr2.shape,\"\\nType=\",arr2.dtype)"
      ],
      "metadata": {
        "colab": {
          "base_uri": "https://localhost:8080/"
        },
        "id": "_4U-PaGgJHok",
        "outputId": "7b6399d4-fa1f-43b4-d163-e67b1389610b"
      },
      "execution_count": null,
      "outputs": [
        {
          "output_type": "stream",
          "name": "stdout",
          "text": [
            "Size= 8 \n",
            "Shape= (2, 4) \n",
            "Type= float64\n"
          ]
        }
      ]
    },
    {
      "cell_type": "markdown",
      "source": [
        "**Special Initalization Function**"
      ],
      "metadata": {
        "id": "fqT-nNmKzgeh"
      }
    },
    {
      "cell_type": "code",
      "source": [
        "arrZero=np.zeros((2,4))\n",
        "arrZero"
      ],
      "metadata": {
        "colab": {
          "base_uri": "https://localhost:8080/"
        },
        "id": "2n4S-_1C0G5Y",
        "outputId": "8c761083-e53b-4ad4-be56-04779bdd706b"
      },
      "execution_count": null,
      "outputs": [
        {
          "output_type": "execute_result",
          "data": {
            "text/plain": [
              "array([[0., 0., 0., 0.],\n",
              "       [0., 0., 0., 0.]])"
            ]
          },
          "metadata": {},
          "execution_count": 10
        }
      ]
    },
    {
      "cell_type": "code",
      "source": [
        "arrOne=np.ones((4,5))\n",
        "arrOne"
      ],
      "metadata": {
        "colab": {
          "base_uri": "https://localhost:8080/"
        },
        "id": "y2Qyly4v0pTp",
        "outputId": "e24a5a1b-dd0e-4ca3-b194-24c32aef8d88"
      },
      "execution_count": null,
      "outputs": [
        {
          "output_type": "execute_result",
          "data": {
            "text/plain": [
              "array([[1., 1., 1., 1., 1.],\n",
              "       [1., 1., 1., 1., 1.],\n",
              "       [1., 1., 1., 1., 1.],\n",
              "       [1., 1., 1., 1., 1.]])"
            ]
          },
          "metadata": {},
          "execution_count": 11
        }
      ]
    },
    {
      "cell_type": "code",
      "source": [
        "arrEmpty=np.empty((5,5))\n",
        "arrEmpty"
      ],
      "metadata": {
        "colab": {
          "base_uri": "https://localhost:8080/"
        },
        "id": "c42CBtKS0wkf",
        "outputId": "b0210104-c1d0-475a-e424-04eba112eb27"
      },
      "execution_count": null,
      "outputs": [
        {
          "output_type": "execute_result",
          "data": {
            "text/plain": [
              "array([[2.28318827e-315, 0.00000000e+000, 6.51906911e-310,\n",
              "        6.51906911e-310, 4.90111540e-317],\n",
              "       [5.33004343e-317, 6.51906911e-310, 6.51906911e-310,\n",
              "        4.90111540e-317, 5.33004343e-317],\n",
              "       [6.51906911e-310, 6.51906911e-310, 6.51904245e-310,\n",
              "        6.51904245e-310, 4.89162934e-317],\n",
              "       [5.31863644e-317, 4.89162934e-317, 6.51904245e-310,\n",
              "        6.51906911e-310, 5.31707124e-317],\n",
              "       [6.51906911e-310, 6.51904245e-310, 6.51904244e-310,\n",
              "        5.31721353e-317, 1.36757371e-320]])"
            ]
          },
          "metadata": {},
          "execution_count": 13
        }
      ]
    },
    {
      "cell_type": "code",
      "source": [
        "arrEye=np.eye(3)#or np.identity(3)\n",
        "arrEye"
      ],
      "metadata": {
        "colab": {
          "base_uri": "https://localhost:8080/"
        },
        "id": "RePHIN1KpYN8",
        "outputId": "b712adce-1c2b-429b-f67d-199aa4763d3f"
      },
      "execution_count": null,
      "outputs": [
        {
          "output_type": "execute_result",
          "data": {
            "text/plain": [
              "array([[1., 0., 0.],\n",
              "       [0., 1., 0.],\n",
              "       [0., 0., 1.]])"
            ]
          },
          "metadata": {},
          "execution_count": 5
        }
      ]
    },
    {
      "cell_type": "code",
      "source": [
        "arrRange=np.arange(2,17,2)\n",
        "arrRange"
      ],
      "metadata": {
        "colab": {
          "base_uri": "https://localhost:8080/"
        },
        "id": "yNPgaj7ArKM1",
        "outputId": "c2732a74-dd90-4c33-ecdb-69de7c584047"
      },
      "execution_count": null,
      "outputs": [
        {
          "output_type": "execute_result",
          "data": {
            "text/plain": [
              "array([ 2,  4,  6,  8, 10, 12, 14, 16])"
            ]
          },
          "metadata": {},
          "execution_count": 10
        }
      ]
    },
    {
      "cell_type": "markdown",
      "source": [
        "# **Operations On Numpy Array**"
      ],
      "metadata": {
        "id": "qRP3eCasqzDM"
      }
    },
    {
      "cell_type": "code",
      "source": [
        "arr1=np.array([[1,2,3,4],[6,7,8,9]])\n",
        "arr2=np.array(((6,7,8,9),(2,3,4,5)))"
      ],
      "metadata": {
        "id": "zN-LcQXGrGQV"
      },
      "execution_count": null,
      "outputs": []
    },
    {
      "cell_type": "markdown",
      "source": [
        "**Basic Operation**"
      ],
      "metadata": {
        "id": "zmmwNg2OtkCt"
      }
    },
    {
      "cell_type": "code",
      "source": [
        "arr1+arr2"
      ],
      "metadata": {
        "colab": {
          "base_uri": "https://localhost:8080/"
        },
        "id": "ocF9G6bJs3EL",
        "outputId": "4a5d0636-7438-4608-d5cc-6adc8e5eb389"
      },
      "execution_count": null,
      "outputs": [
        {
          "output_type": "execute_result",
          "data": {
            "text/plain": [
              "array([[ 7,  9, 11, 13],\n",
              "       [ 8, 10, 12, 14]])"
            ]
          },
          "metadata": {},
          "execution_count": 13
        }
      ]
    },
    {
      "cell_type": "code",
      "source": [
        "arr1*arr2"
      ],
      "metadata": {
        "colab": {
          "base_uri": "https://localhost:8080/"
        },
        "id": "iL7e5vgQs6n6",
        "outputId": "1efb3c65-4051-418b-8afe-57355c710459"
      },
      "execution_count": null,
      "outputs": [
        {
          "output_type": "execute_result",
          "data": {
            "text/plain": [
              "array([[ 6, 14, 24, 36],\n",
              "       [12, 21, 32, 45]])"
            ]
          },
          "metadata": {},
          "execution_count": 14
        }
      ]
    },
    {
      "cell_type": "code",
      "source": [
        "arr1-arr2"
      ],
      "metadata": {
        "colab": {
          "base_uri": "https://localhost:8080/"
        },
        "id": "-9qZ_GQUs-st",
        "outputId": "ecb4ba3a-496d-411d-aee9-154d40f709b5"
      },
      "execution_count": null,
      "outputs": [
        {
          "output_type": "execute_result",
          "data": {
            "text/plain": [
              "array([[-5, -5, -5, -5],\n",
              "       [ 4,  4,  4,  4]])"
            ]
          },
          "metadata": {},
          "execution_count": 15
        }
      ]
    },
    {
      "cell_type": "code",
      "source": [
        "arr1/arr2"
      ],
      "metadata": {
        "colab": {
          "base_uri": "https://localhost:8080/"
        },
        "id": "ka3Rhm-otCP-",
        "outputId": "f3b247e6-7249-41fb-b4cf-180a710937c5"
      },
      "execution_count": null,
      "outputs": [
        {
          "output_type": "execute_result",
          "data": {
            "text/plain": [
              "array([[0.16666667, 0.28571429, 0.375     , 0.44444444],\n",
              "       [3.        , 2.33333333, 2.        , 1.8       ]])"
            ]
          },
          "metadata": {},
          "execution_count": 16
        }
      ]
    },
    {
      "cell_type": "code",
      "source": [
        "5*arr1 # same for all other operations"
      ],
      "metadata": {
        "colab": {
          "base_uri": "https://localhost:8080/"
        },
        "id": "o_TUHnL2tsqZ",
        "outputId": "80bb6192-5873-406d-9199-1c073fe0c448"
      },
      "execution_count": null,
      "outputs": [
        {
          "output_type": "execute_result",
          "data": {
            "text/plain": [
              "array([[ 5, 10, 15, 20],\n",
              "       [30, 35, 40, 45]])"
            ]
          },
          "metadata": {},
          "execution_count": 19
        }
      ]
    },
    {
      "cell_type": "code",
      "source": [
        "arr1[1,1:]"
      ],
      "metadata": {
        "colab": {
          "base_uri": "https://localhost:8080/"
        },
        "id": "FshusNC9tK1r",
        "outputId": "a8a19d74-df9f-4e09-937d-9c6f31253f30"
      },
      "execution_count": null,
      "outputs": [
        {
          "output_type": "execute_result",
          "data": {
            "text/plain": [
              "array([7, 8, 9])"
            ]
          },
          "metadata": {},
          "execution_count": 17
        }
      ]
    },
    {
      "cell_type": "markdown",
      "source": [
        "**Conditionl Operations**"
      ],
      "metadata": {
        "id": "Y_2huDrNu_IV"
      }
    },
    {
      "cell_type": "code",
      "source": [
        "arr1<=5"
      ],
      "metadata": {
        "colab": {
          "base_uri": "https://localhost:8080/"
        },
        "id": "8JSJZVLZvF-T",
        "outputId": "22b3258c-ad3f-4b3c-9ff1-4dba79fbaa1e"
      },
      "execution_count": null,
      "outputs": [
        {
          "output_type": "execute_result",
          "data": {
            "text/plain": [
              "array([[ True,  True,  True,  True],\n",
              "       [False, False, False, False]])"
            ]
          },
          "metadata": {},
          "execution_count": 22
        }
      ]
    },
    {
      "cell_type": "code",
      "source": [
        "arr2!=6"
      ],
      "metadata": {
        "colab": {
          "base_uri": "https://localhost:8080/"
        },
        "id": "jiPk88EdvULz",
        "outputId": "7a149dfb-dcd2-4f01-bc05-0479671485e6"
      },
      "execution_count": null,
      "outputs": [
        {
          "output_type": "execute_result",
          "data": {
            "text/plain": [
              "array([[False,  True,  True,  True],\n",
              "       [ True,  True,  True,  True]])"
            ]
          },
          "metadata": {},
          "execution_count": 23
        }
      ]
    },
    {
      "cell_type": "markdown",
      "source": [
        "**Matrix Multipication**"
      ],
      "metadata": {
        "id": "OIfcijksvziN"
      }
    },
    {
      "cell_type": "code",
      "source": [
        "arrMul1=np.array([[1,2,3],[4,5,6],[7,8,9]])\n",
        "arrMul2=np.array([[9,8,7],[6,5,4],[3,2,1]])"
      ],
      "metadata": {
        "id": "Jx1sJ9gAv5G6"
      },
      "execution_count": null,
      "outputs": []
    },
    {
      "cell_type": "code",
      "source": [
        "arrMul1.dot(arrMul2)"
      ],
      "metadata": {
        "colab": {
          "base_uri": "https://localhost:8080/"
        },
        "id": "M8k-5cuBwdFZ",
        "outputId": "61471773-f45f-4784-d39e-79877d68fffe"
      },
      "execution_count": null,
      "outputs": [
        {
          "output_type": "execute_result",
          "data": {
            "text/plain": [
              "array([[ 30,  24,  18],\n",
              "       [ 84,  69,  54],\n",
              "       [138, 114,  90]])"
            ]
          },
          "metadata": {},
          "execution_count": 25
        }
      ]
    },
    {
      "cell_type": "code",
      "source": [
        "arrMul2.dot(arrMul1)"
      ],
      "metadata": {
        "colab": {
          "base_uri": "https://localhost:8080/"
        },
        "id": "YBgYEP9Cwi08",
        "outputId": "c3e87352-194a-488d-b9f1-87c29f974f14"
      },
      "execution_count": null,
      "outputs": [
        {
          "output_type": "execute_result",
          "data": {
            "text/plain": [
              "array([[ 90, 114, 138],\n",
              "       [ 54,  69,  84],\n",
              "       [ 18,  24,  30]])"
            ]
          },
          "metadata": {},
          "execution_count": 26
        }
      ]
    },
    {
      "cell_type": "markdown",
      "source": [
        "# **Methods**"
      ],
      "metadata": {
        "id": "0qcpSSJ4CKcf"
      }
    },
    {
      "cell_type": "markdown",
      "source": [
        "**Math Methods**"
      ],
      "metadata": {
        "id": "tP0O1mFaCeDA"
      }
    },
    {
      "cell_type": "code",
      "source": [
        "arr1=np.array([[1,4,9],[4,5,6],[2,16,9]])\n",
        "np.sqrt(arr1)"
      ],
      "metadata": {
        "colab": {
          "base_uri": "https://localhost:8080/"
        },
        "id": "XrgnrqOWCZDL",
        "outputId": "c3ea61f6-3fcd-425c-d041-ce85b0e2e7c1"
      },
      "execution_count": null,
      "outputs": [
        {
          "output_type": "execute_result",
          "data": {
            "text/plain": [
              "array([[1.        , 2.        , 3.        ],\n",
              "       [2.        , 2.23606798, 2.44948974],\n",
              "       [1.41421356, 4.        , 3.        ]])"
            ]
          },
          "metadata": {},
          "execution_count": 8
        }
      ]
    },
    {
      "cell_type": "code",
      "source": [
        "arr1=np.array([[1,-2,3],[-4,5,6],[7,-8,9]])\n",
        "np.abs(arr1)"
      ],
      "metadata": {
        "colab": {
          "base_uri": "https://localhost:8080/"
        },
        "id": "cgsQW-xADDs-",
        "outputId": "0ace0898-7c00-444e-bc21-2d4ba838551f"
      },
      "execution_count": null,
      "outputs": [
        {
          "output_type": "execute_result",
          "data": {
            "text/plain": [
              "array([[1, 2, 3],\n",
              "       [4, 5, 6],\n",
              "       [7, 8, 9]])"
            ]
          },
          "metadata": {},
          "execution_count": 9
        }
      ]
    },
    {
      "cell_type": "code",
      "source": [
        "arr2=np.array([[9,8,7],[6,5,4],[3,2,1]])\n",
        "np.maximum(arr1,arr2)"
      ],
      "metadata": {
        "colab": {
          "base_uri": "https://localhost:8080/"
        },
        "id": "qOmkonnGDShC",
        "outputId": "45a0898d-915f-4702-bdc9-045dde52d8f5"
      },
      "execution_count": null,
      "outputs": [
        {
          "output_type": "execute_result",
          "data": {
            "text/plain": [
              "array([[9, 8, 7],\n",
              "       [6, 5, 6],\n",
              "       [7, 2, 9]])"
            ]
          },
          "metadata": {},
          "execution_count": 11
        }
      ]
    },
    {
      "cell_type": "markdown",
      "source": [
        "**Random Methods**"
      ],
      "metadata": {
        "id": "HIVyweN-EyJ2"
      }
    },
    {
      "cell_type": "code",
      "source": [
        "arr1=np.random.randn(9)\n",
        "arr1"
      ],
      "metadata": {
        "colab": {
          "base_uri": "https://localhost:8080/"
        },
        "id": "JQjsaVJSEq6N",
        "outputId": "9cc28e0e-88d0-4637-db94-c6586a2fe1b3"
      },
      "execution_count": null,
      "outputs": [
        {
          "output_type": "execute_result",
          "data": {
            "text/plain": [
              "array([ 0.64520069,  1.74668981,  0.43377395,  0.06604385,  0.42648117,\n",
              "       -0.33495572,  1.5436648 , -0.49067379, -0.09540247])"
            ]
          },
          "metadata": {},
          "execution_count": 13
        }
      ]
    },
    {
      "cell_type": "code",
      "source": [
        "arr1=arr1.reshape(3,3)\n",
        "arr1=np.ceil(arr1)\n",
        "arr1"
      ],
      "metadata": {
        "colab": {
          "base_uri": "https://localhost:8080/"
        },
        "id": "_VtiH-B1FVP9",
        "outputId": "50286bee-5405-48dd-cfa1-9c35225e7c30"
      },
      "execution_count": null,
      "outputs": [
        {
          "output_type": "execute_result",
          "data": {
            "text/plain": [
              "array([[ 1.,  2.,  1.],\n",
              "       [ 1.,  1., -0.],\n",
              "       [ 2., -0., -0.]])"
            ]
          },
          "metadata": {},
          "execution_count": 15
        }
      ]
    },
    {
      "cell_type": "code",
      "source": [
        "arr2=np.random.randint(1,35,9)\n",
        "arr2"
      ],
      "metadata": {
        "colab": {
          "base_uri": "https://localhost:8080/"
        },
        "id": "QLVZD9zNFxbv",
        "outputId": "2d215a5f-bc34-48a2-ea05-a293258e49d1"
      },
      "execution_count": null,
      "outputs": [
        {
          "output_type": "execute_result",
          "data": {
            "text/plain": [
              "array([30, 22,  3,  9, 17, 30, 23,  2,  3])"
            ]
          },
          "metadata": {},
          "execution_count": 17
        }
      ]
    }
  ]
}