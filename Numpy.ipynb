{
  "nbformat": 4,
  "nbformat_minor": 0,
  "metadata": {
    "colab": {
      "provenance": []
    },
    "kernelspec": {
      "name": "python3",
      "display_name": "Python 3"
    },
    "language_info": {
      "name": "python"
    }
  },
  "cells": [
    {
      "cell_type": "markdown",
      "source": [
        "# **Installing Numpy Modules**"
      ],
      "metadata": {
        "id": "KHqzOuXdTjk9"
      }
    },
    {
      "cell_type": "code",
      "execution_count": null,
      "metadata": {
        "colab": {
          "base_uri": "https://localhost:8080/"
        },
        "id": "TNhYHaFGTKlK",
        "outputId": "b76d8f93-0a27-4469-f654-903a5842c902"
      },
      "outputs": [
        {
          "output_type": "stream",
          "name": "stdout",
          "text": [
            "Requirement already satisfied: numpy in /usr/local/lib/python3.11/dist-packages (2.0.2)\n"
          ]
        }
      ],
      "source": [
        "!pip install numpy"
      ]
    },
    {
      "cell_type": "markdown",
      "source": [
        "## **Numpy Array Initalization and Properties**"
      ],
      "metadata": {
        "id": "zsSHA4RbJQRz"
      }
    },
    {
      "cell_type": "code",
      "source": [
        "import numpy as np"
      ],
      "metadata": {
        "id": "4uC0sOvGH2U4"
      },
      "execution_count": null,
      "outputs": []
    },
    {
      "cell_type": "markdown",
      "source": [
        "Initalizing with a list"
      ],
      "metadata": {
        "id": "xQwpxH-Hv6zH"
      }
    },
    {
      "cell_type": "code",
      "source": [
        "arr1=np.array([1,2,3,4])\n",
        "arr1"
      ],
      "metadata": {
        "id": "V5CgoEw2TiNJ",
        "colab": {
          "base_uri": "https://localhost:8080/"
        },
        "outputId": "e73a8702-9fec-41cc-b5ee-033bae98d837"
      },
      "execution_count": null,
      "outputs": [
        {
          "output_type": "execute_result",
          "data": {
            "text/plain": [
              "array([1, 2, 3, 4])"
            ]
          },
          "metadata": {},
          "execution_count": 4
        }
      ]
    },
    {
      "cell_type": "code",
      "source": [
        "print(\"Size=\",arr1.size,\"\\nShape=\",arr1.shape,\"\\nType=\",arr1.dtype)"
      ],
      "metadata": {
        "colab": {
          "base_uri": "https://localhost:8080/"
        },
        "id": "M35dUu38IISa",
        "outputId": "dc795f22-b9fb-4e05-801a-fd47d2f044d7"
      },
      "execution_count": null,
      "outputs": [
        {
          "output_type": "stream",
          "name": "stdout",
          "text": [
            "Size= 4 \n",
            "Shape= (4,) \n",
            "Type= int64\n"
          ]
        }
      ]
    },
    {
      "cell_type": "markdown",
      "source": [
        "Initalizing with a tuple"
      ],
      "metadata": {
        "id": "fSN7EqBrwE2H"
      }
    },
    {
      "cell_type": "code",
      "source": [
        "arr2=np.array(((6.0,7.5,8,9),(2,3,4,5)))\n",
        "arr2"
      ],
      "metadata": {
        "colab": {
          "base_uri": "https://localhost:8080/"
        },
        "id": "E1i-3cPRIvlN",
        "outputId": "942c2d23-800e-476b-fc91-4724c48973b0"
      },
      "execution_count": null,
      "outputs": [
        {
          "output_type": "execute_result",
          "data": {
            "text/plain": [
              "array([[6. , 7.5, 8. , 9. ],\n",
              "       [2. , 3. , 4. , 5. ]])"
            ]
          },
          "metadata": {},
          "execution_count": 8
        }
      ]
    },
    {
      "cell_type": "code",
      "source": [
        "print(\"Size=\",arr2.size,\"\\nShape=\",arr2.shape,\"\\nType=\",arr2.dtype)"
      ],
      "metadata": {
        "colab": {
          "base_uri": "https://localhost:8080/"
        },
        "id": "_4U-PaGgJHok",
        "outputId": "8fbfa658-1c31-4a6d-d96d-4d3ceff07ae9"
      },
      "execution_count": null,
      "outputs": [
        {
          "output_type": "stream",
          "name": "stdout",
          "text": [
            "Size= 8 \n",
            "Shape= (2, 4) \n",
            "Type= float64\n"
          ]
        }
      ]
    }
  ]
}