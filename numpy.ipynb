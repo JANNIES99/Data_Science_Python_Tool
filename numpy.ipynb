{
 "cells": [
  {
   "cell_type": "code",
   "execution_count": 2,
   "id": "49dc5e4d",
   "metadata": {},
   "outputs": [
    {
     "name": "stdout",
     "output_type": "stream",
     "text": [
      "[1 2 3 4]\n"
     ]
    }
   ],
   "source": [
    "import numpy as np\n",
    "arr=np.array([1,2,3,4])\n",
    "print(arr)"
   ]
  },
  {
   "cell_type": "code",
   "execution_count": 3,
   "id": "017cade5",
   "metadata": {},
   "outputs": [],
   "source": [
    "arr2d=np.array([[1,2,3,4],[2,3,4,5]])"
   ]
  },
  {
   "cell_type": "code",
   "execution_count": 5,
   "id": "9b649021",
   "metadata": {},
   "outputs": [
    {
     "name": "stdout",
     "output_type": "stream",
     "text": [
      "(2, 4)\n",
      "int64\n"
     ]
    }
   ],
   "source": [
    "print(arr2d.shape)\n",
    "print(arr2d.dtype)"
   ]
  },
  {
   "cell_type": "code",
   "execution_count": 7,
   "id": "0dc1185e",
   "metadata": {},
   "outputs": [
    {
     "data": {
      "text/plain": [
       "array([[0., 0., 0., 0.],\n",
       "       [0., 0., 0., 0.],\n",
       "       [0., 0., 0., 0.],\n",
       "       [0., 0., 0., 0.],\n",
       "       [0., 0., 0., 0.]])"
      ]
     },
     "execution_count": 7,
     "metadata": {},
     "output_type": "execute_result"
    }
   ],
   "source": [
    "np.zeros((5,4))"
   ]
  },
  {
   "cell_type": "code",
   "execution_count": 8,
   "id": "0a33b01d",
   "metadata": {},
   "outputs": [
    {
     "data": {
      "text/plain": [
       "array([1., 1., 1., 1., 1.])"
      ]
     },
     "execution_count": 8,
     "metadata": {},
     "output_type": "execute_result"
    }
   ],
   "source": [
    "np.ones(5)"
   ]
  },
  {
   "cell_type": "code",
   "execution_count": 12,
   "id": "2dab8830",
   "metadata": {},
   "outputs": [
    {
     "data": {
      "text/plain": [
       "array([ 2,  3,  4,  5,  6,  7,  8,  9, 10, 11, 12, 13, 14])"
      ]
     },
     "execution_count": 12,
     "metadata": {},
     "output_type": "execute_result"
    }
   ],
   "source": [
    "np.arange(2,15)"
   ]
  },
  {
   "cell_type": "code",
   "execution_count": null,
   "id": "55c1e086",
   "metadata": {},
   "outputs": [
    {
     "data": {
      "text/plain": [
       "array([[1., 0., 0.],\n",
       "       [0., 1., 0.],\n",
       "       [0., 0., 1.]])"
      ]
     },
     "execution_count": 13,
     "metadata": {},
     "output_type": "execute_result"
    }
   ],
   "source": [
    "np.eye(3)#for identity matrix"
   ]
  },
  {
   "cell_type": "code",
   "execution_count": 15,
   "id": "7db5e2d5",
   "metadata": {},
   "outputs": [
    {
     "data": {
      "text/plain": [
       "dtype('float64')"
      ]
     },
     "execution_count": 15,
     "metadata": {},
     "output_type": "execute_result"
    }
   ],
   "source": [
    "newarr=arr2d.astype(np.float64)\n",
    "newarr.dtype"
   ]
  },
  {
   "cell_type": "code",
   "execution_count": 16,
   "id": "dfe2b2b6",
   "metadata": {},
   "outputs": [],
   "source": [
    "arr2=np.array([[1,1,1,1],[2,2,2,2]])"
   ]
  },
  {
   "cell_type": "code",
   "execution_count": 20,
   "id": "b3332ef1",
   "metadata": {},
   "outputs": [
    {
     "name": "stdout",
     "output_type": "stream",
     "text": [
      "Addition\n",
      " [[2 3 4 5]\n",
      " [4 5 6 7]] \n",
      "\n",
      "Substraction\n",
      " [[ 0 -1 -2 -3]\n",
      " [ 0 -1 -2 -3]] \n",
      "\n",
      "Multipication\n",
      " [[ 1  2  3  4]\n",
      " [ 4  6  8 10]] \n",
      "\n",
      "Divison\n",
      " [[1.         0.5        0.33333333 0.25      ]\n",
      " [1.         0.66666667 0.5        0.4       ]] \n",
      "\n"
     ]
    }
   ],
   "source": [
    "print(\"Addition\\n\",arr2+arr2d,\"\\n\")\n",
    "print(\"Substraction\\n\",arr2-arr2d,\"\\n\")\n",
    "print(\"Multipication\\n\",arr2*arr2d,\"\\n\")\n",
    "print(\"Divison\\n\",arr2/arr2d,\"\\n\")"
   ]
  },
  {
   "cell_type": "code",
   "execution_count": 25,
   "id": "3745cdb5",
   "metadata": {},
   "outputs": [
    {
     "name": "stdout",
     "output_type": "stream",
     "text": [
      "[[2 2]]\n"
     ]
    }
   ],
   "source": [
    "print(arr2[1:,2:])"
   ]
  },
  {
   "cell_type": "code",
   "execution_count": 26,
   "id": "77418a9c",
   "metadata": {},
   "outputs": [
    {
     "data": {
      "text/plain": [
       "array([[1, 1],\n",
       "       [1, 1],\n",
       "       [2, 2],\n",
       "       [2, 2]])"
      ]
     },
     "execution_count": 26,
     "metadata": {},
     "output_type": "execute_result"
    }
   ],
   "source": [
    "arr2.reshape(4,2)"
   ]
  },
  {
   "cell_type": "code",
   "execution_count": 27,
   "id": "59207407",
   "metadata": {},
   "outputs": [
    {
     "data": {
      "text/plain": [
       "array([[ 28,  64],\n",
       "       [ 67, 181]])"
      ]
     },
     "execution_count": 27,
     "metadata": {},
     "output_type": "execute_result"
    }
   ],
   "source": [
    "x=np.array([[1,2,3],[4,5,6]])\n",
    "y=np.array([[6,23],[-1,7],[8,9]])\n",
    "x.dot(y)"
   ]
  },
  {
   "cell_type": "code",
   "execution_count": 30,
   "id": "5544a70c",
   "metadata": {},
   "outputs": [
    {
     "data": {
      "text/plain": [
       "array([[ 9, 17, 14],\n",
       "       [ 6,  4,  0],\n",
       "       [ 6, 15,  8]], dtype=int32)"
      ]
     },
     "execution_count": 30,
     "metadata": {},
     "output_type": "execute_result"
    }
   ],
   "source": [
    "x=np.random.randint(0,21,size=(3,3))\n",
    "x"
   ]
  },
  {
   "cell_type": "code",
   "execution_count": 31,
   "id": "7e468e8d",
   "metadata": {},
   "outputs": [
    {
     "data": {
      "text/plain": [
       "array([[ 3,  3, 17],\n",
       "       [ 4,  3, 16],\n",
       "       [10, 18, 11]], dtype=int32)"
      ]
     },
     "execution_count": 31,
     "metadata": {},
     "output_type": "execute_result"
    }
   ],
   "source": [
    "y=np.random.randint(0,21,size=(3,3))\n",
    "y"
   ]
  },
  {
   "cell_type": "code",
   "execution_count": 32,
   "id": "4ebb3db2",
   "metadata": {},
   "outputs": [
    {
     "name": "stdout",
     "output_type": "stream",
     "text": [
      "[[12 20 31]\n",
      " [10  7 16]\n",
      " [16 33 19]]\n"
     ]
    }
   ],
   "source": [
    "print(x+y)"
   ]
  },
  {
   "cell_type": "code",
   "execution_count": 33,
   "id": "6c29c59c",
   "metadata": {},
   "outputs": [
    {
     "data": {
      "text/plain": [
       "array([[15, 15, 85],\n",
       "       [20, 15, 80],\n",
       "       [50, 90, 55]], dtype=int32)"
      ]
     },
     "execution_count": 33,
     "metadata": {},
     "output_type": "execute_result"
    }
   ],
   "source": [
    "y*5"
   ]
  },
  {
   "cell_type": "code",
   "execution_count": 36,
   "id": "b38bc305",
   "metadata": {},
   "outputs": [
    {
     "data": {
      "text/plain": [
       "array([[ 0, 14],\n",
       "       [-1, 13],\n",
       "       [ 8, -7]], dtype=int32)"
      ]
     },
     "execution_count": 36,
     "metadata": {},
     "output_type": "execute_result"
    }
   ],
   "source": [
    "np.diff(y)"
   ]
  },
  {
   "cell_type": "code",
   "execution_count": 37,
   "id": "6e4971e3",
   "metadata": {},
   "outputs": [
    {
     "data": {
      "text/plain": [
       "np.float64(6.057339186861783)"
      ]
     },
     "execution_count": 37,
     "metadata": {},
     "output_type": "execute_result"
    }
   ],
   "source": [
    "y.std()"
   ]
  }
 ],
 "metadata": {
  "kernelspec": {
   "display_name": "Python 3",
   "language": "python",
   "name": "python3"
  },
  "language_info": {
   "codemirror_mode": {
    "name": "ipython",
    "version": 3
   },
   "file_extension": ".py",
   "mimetype": "text/x-python",
   "name": "python",
   "nbconvert_exporter": "python",
   "pygments_lexer": "ipython3",
   "version": "3.12.6"
  }
 },
 "nbformat": 4,
 "nbformat_minor": 5
}
